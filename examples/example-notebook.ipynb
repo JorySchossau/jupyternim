{
 "cells": [
  {
   "cell_type": "markdown",
   "metadata": {},
   "source": [
    "Nim examples, and notes on this kernel\n",
    "======================================"
   ]
  },
  {
   "cell_type": "markdown",
   "metadata": {},
   "source": [
    "Hello World\n",
    "-----------"
   ]
  },
  {
   "cell_type": "code",
   "execution_count": null,
   "metadata": {},
   "outputs": [
    {
     "name": "stdout",
     "output_type": "stream",
     "text": [
      "Hint: used config file 'C:\\Dev\\nim-git\\config\\nim.cfg' [Conf]\n",
      "Hint: used config file 'C:\\Dev\\nim-git\\config\\config.nims' [Conf]\n",
      "......................CC: codecells.nim\n",
      "Link: codecells.nim\n",
      "Hint: 42917 lines; 1.173s; 60.715MiB peakmem; Debug build; proj: C:\\Users\\stisa\\.jupyternim\\codeserver.nim; out: C:\\Users\\stisa\\.jupyternim\\nimcodeserver.exe [SuccessX]\n"
     ]
    },
    {
     "data": {
      "text/plain": [
       "[codeserver.nim:17] CODESERVERGOTACOMMAND #runNimCodeServer\n",
       "[codeserver.nim:19] true\n",
       "[codeserver.nim:25] #### RELOAD PERFORMED ####\n",
       "hello world!\n"
      ]
     },
     "execution_count": 1,
     "metadata": {},
     "output_type": "execute_result"
    }
   ],
   "source": [
    "echo \"hello world!\""
   ]
  },
  {
   "cell_type": "markdown",
   "metadata": {},
   "source": [
    "Notes on sharing globals\n",
    "--------------------------------------------\n",
    "Lets define a var `x`."
   ]
  },
  {
   "cell_type": "code",
   "execution_count": null,
   "metadata": {},
   "outputs": [
    {
     "name": "stdout",
     "output_type": "stream",
     "text": [
      "Hint: used config file 'C:\\Dev\\nim-git\\config\\nim.cfg' [Conf]\n",
      "Hint: used config file 'C:\\Dev\\nim-git\\config\\config.nims' [Conf]\n",
      "......................\n",
      "C:\\Users\\stisa\\.jupyternim\\codecells.nim(21, 7) Hint: 'x' is declared but not used [XDeclaredButNotUsed]\n",
      "CC: stdlib_io.nim\n",
      "CC: stdlib_system.nim\n",
      "CC: codecells.nim\n",
      "Link: stdlib_io.nim\n",
      "Link: stdlib_system.nim\n",
      "Link: codecells.nim\n",
      "Hint: 42918 lines; 1.645s; 60.715MiB peakmem; Debug build; proj: C:\\Users\\stisa\\.jupyternim\\codeserver.nim; out: C:\\Users\\stisa\\.jupyternim\\nimcodeserver.exe [SuccessX]\n"
     ]
    },
    {
     "data": {
      "text/plain": [
       "[codeserver.nim:17] CODESERVERGOTACOMMAND #runNimCodeServer\n",
       "[codeserver.nim:19] true\n",
       "[codeserver.nim:25] #### RELOAD PERFORMED ####\n"
      ]
     },
     "execution_count": 2,
     "metadata": {},
     "output_type": "execute_result"
    }
   ],
   "source": [
    "var x = 12"
   ]
  },
  {
   "cell_type": "code",
   "execution_count": null,
   "metadata": {},
   "outputs": [
    {
     "name": "stdout",
     "output_type": "stream",
     "text": [
      "Hint: used config file 'C:\\Dev\\nim-git\\config\\nim.cfg' [Conf]\n",
      "Hint: used config file 'C:\\Dev\\nim-git\\config\\config.nims' [Conf]\n",
      "......................CC: codecells.nim\n",
      "Link: codecells.nim\n",
      "Hint: 42919 lines; 1.247s; 60.742MiB peakmem; Debug build; proj: C:\\Users\\stisa\\.jupyternim\\codeserver.nim; out: C:\\Users\\stisa\\.jupyternim\\nimcodeserver.exe [SuccessX]\n"
     ]
    },
    {
     "data": {
      "text/plain": [
       "[codeserver.nim:17] CODESERVERGOTACOMMAND #runNimCodeServer\n",
       "[codeserver.nim:19] true\n",
       "[codeserver.nim:25] #### RELOAD PERFORMED ####\n",
       "12\n"
      ]
     },
     "execution_count": 3,
     "metadata": {},
     "output_type": "execute_result"
    }
   ],
   "source": [
    "echo x"
   ]
  },
  {
   "cell_type": "markdown",
   "metadata": {},
   "source": [
    "Ok, the value is maintained between blocks thanks to hotcodereloading.  \n",
    "Lets update it:"
   ]
  },
  {
   "cell_type": "code",
   "execution_count": null,
   "metadata": {},
   "outputs": [
    {
     "name": "stdout",
     "output_type": "stream",
     "text": [
      "Hint: used config file 'C:\\Dev\\nim-git\\config\\nim.cfg' [Conf]\n",
      "Hint: used config file 'C:\\Dev\\nim-git\\config\\config.nims' [Conf]\n",
      "......................CC: codecells.nim\n",
      "Link: codecells.nim\n",
      "Hint: 42921 lines; 1.146s; 49MiB peakmem; Release build; proj: C:\\Users\\stisa\\.jupyternim\\codeserver.nim; out: C:\\Users\\stisa\\.jupyternim\\nimcodeserver.exe [SuccessX]\n"
     ]
    },
    {
     "data": {
      "text/plain": [
       "1476\n"
      ]
     },
     "execution_count": 4,
     "metadata": {},
     "output_type": "execute_result"
    }
   ],
   "source": [
    "x = 123*x\n",
    "echo x"
   ]
  },
  {
   "cell_type": "markdown",
   "metadata": {},
   "source": [
    "Ok, we got 1476, it's correct you can check it.  \n",
    "What if we changed the value at the assignment site? Lets try."
   ]
  },
  {
   "cell_type": "code",
   "execution_count": null,
   "metadata": {},
   "outputs": [
    {
     "name": "stdout",
     "output_type": "stream",
     "text": [
      "Hint: used config file 'C:\\Dev\\nim-git\\config\\nim.cfg' [Conf]\n",
      "Hint: used config file 'C:\\Dev\\nim-git\\config\\config.nims' [Conf]\n",
      "......................\n",
      "C:\\Users\\stisa\\.jupyternim\\codecells.nim(20, 7) Hint: 'x' is declared but not used [XDeclaredButNotUsed]\n",
      "CC: codecells.nim\n",
      "Link: codecells.nim\n",
      "Hint: 42917 lines; 1.253s; 60.742MiB peakmem; Debug build; proj: C:\\Users\\stisa\\.jupyternim\\codeserver.nim; out: C:\\Users\\stisa\\.jupyternim\\nimcodeserver.exe [SuccessX]\n"
     ]
    },
    {
     "data": {
      "text/plain": [
       "[codeserver.nim:17] CODESERVERGOTACOMMAND #runNimCodeServer\n",
       "[codeserver.nim:19] true\n",
       "[codeserver.nim:25] #### RELOAD PERFORMED ####\n"
      ]
     },
     "execution_count": 1,
     "metadata": {},
     "output_type": "execute_result"
    }
   ],
   "source": [
    "var x = 123"
   ]
  },
  {
   "cell_type": "markdown",
   "metadata": {},
   "source": [
    "Ouch, redefinition error.  \n",
    "This is due to how we write the temp file that holds the code we run.  \n",
    "It *may* get fixed in the future, but for now I suggest just placing empty initialization in their own blocks."
   ]
  },
  {
   "cell_type": "code",
   "execution_count": null,
   "metadata": {},
   "outputs": [
    {
     "name": "stdout",
     "output_type": "stream",
     "text": [
      "Hint: used config file 'C:\\Dev\\nim-git\\config\\nim.cfg' [Conf]\n",
      "Hint: used config file 'C:\\Dev\\nim-git\\config\\config.nims' [Conf]\n",
      "......................CC: codecells.nim\n",
      "Link: codecells.nim\n",
      "Hint: 42918 lines; 1.141s; 60.742MiB peakmem; Debug build; proj: C:\\Users\\stisa\\.jupyternim\\codeserver.nim; out: C:\\Users\\stisa\\.jupyternim\\nimcodeserver.exe [SuccessX]\n"
     ]
    },
    {
     "data": {
      "text/plain": [
       "[codeserver.nim:17] CODESERVERGOTACOMMAND #runNimCodeServer\n",
       "[codeserver.nim:19] true\n",
       "[codeserver.nim:25] #### RELOAD PERFORMED ####\n",
       "123\n"
      ]
     },
     "execution_count": 2,
     "metadata": {},
     "output_type": "execute_result"
    }
   ],
   "source": [
    "echo x"
   ]
  },
  {
   "cell_type": "markdown",
   "metadata": {},
   "source": [
    "Luckily, we can still continue with the previous value, so this would work"
   ]
  },
  {
   "cell_type": "code",
   "execution_count": null,
   "metadata": {},
   "outputs": [
    {
     "name": "stdout",
     "output_type": "stream",
     "text": [
      "Hint: used config file 'C:\\Dev\\nim-git\\config\\nim.cfg' [Conf]\n",
      "Hint: used config file 'C:\\Dev\\nim-git\\config\\config.nims' [Conf]\n",
      "......................CC: codecells.nim\n",
      "Link: codecells.nim\n",
      "Hint: 42924 lines; 1.236s; 49MiB peakmem; Release build; proj: C:\\Users\\stisa\\.jupyternim\\codeserver.nim; out: C:\\Users\\stisa\\.jupyternim\\nimcodeserver.exe [SuccessX]\n"
     ]
    },
    {
     "data": {
      "text/plain": [
       "123\n"
      ]
     },
     "execution_count": 7,
     "metadata": {},
     "output_type": "execute_result"
    }
   ],
   "source": [
    "x = 123\n",
    "echo x"
   ]
  },
  {
   "cell_type": "markdown",
   "metadata": {},
   "source": [
    "Import\n",
    "------------\n",
    "If the host system as the correct package installed, you can use `import` like normal.  \n",
    "Files in the working directory of the notebook are not picked up, because the compilation happens in a temp folder."
   ]
  },
  {
   "cell_type": "code",
   "execution_count": null,
   "metadata": {},
   "outputs": [
    {
     "name": "stdout",
     "output_type": "stream",
     "text": [
      "Hint: used config file 'C:\\Dev\\nim-git\\config\\nim.cfg' [Conf]\n",
      "Hint: used config file 'C:\\Dev\\nim-git\\config\\config.nims' [Conf]\n",
      "......................\n",
      "C:\\Users\\stisa\\.jupyternim\\codecells.nim(21, 10) Warning: imported and not used: 'math' [UnusedImport]\n",
      "CC: stdlib_io.nim\n",
      "CC: stdlib_system.nim\n",
      "CC: codecells.nim\n",
      "Link: stdlib_io.nim\n",
      "Link: stdlib_system.nim\n",
      "Link: codecells.nim\n",
      "Hint: 42918 lines; 1.622s; 60.758MiB peakmem; Debug build; proj: C:\\Users\\stisa\\.jupyternim\\codeserver.nim; out: C:\\Users\\stisa\\.jupyternim\\nimcodeserver.exe [SuccessX]\n"
     ]
    },
    {
     "data": {
      "text/plain": [
       "[codeserver.nim:17] CODESERVERGOTACOMMAND #runNimCodeServer\n",
       "[codeserver.nim:19] true\n",
       "[codeserver.nim:25] #### RELOAD PERFORMED ####\n"
      ]
     },
     "execution_count": 2,
     "metadata": {},
     "output_type": "execute_result"
    }
   ],
   "source": [
    "import math"
   ]
  },
  {
   "cell_type": "code",
   "execution_count": null,
   "metadata": {},
   "outputs": [
    {
     "name": "stdout",
     "output_type": "stream",
     "text": [
      "Hint: used config file 'C:\\Dev\\nim-git\\config\\nim.cfg' [Conf]\n",
      "Hint: used config file 'C:\\Dev\\nim-git\\config\\config.nims' [Conf]\n",
      "......................\n",
      "C:\\Users\\stisa\\.jupyternim\\codecells.nim(22, 7) Hint: 'y' is declared but not used [XDeclaredButNotUsed]\n",
      "C:\\Users\\stisa\\.jupyternim\\codecells.nim(20, 8) Warning: imported and not used: 'math' [UnusedImport]\n",
      "CC: codecells.nim\n",
      "Link: codecells.nim\n",
      "Hint: 42919 lines; 1.198s; 60.742MiB peakmem; Debug build; proj: C:\\Users\\stisa\\.jupyternim\\codeserver.nim; out: C:\\Users\\stisa\\.jupyternim\\nimcodeserver.exe [SuccessX]\n"
     ]
    },
    {
     "data": {
      "text/plain": [
       "[codeserver.nim:17] CODESERVERGOTACOMMAND #runNimCodeServer\n",
       "[codeserver.nim:19] true\n",
       "[codeserver.nim:25] #### RELOAD PERFORMED ####\n"
      ]
     },
     "execution_count": 3,
     "metadata": {},
     "output_type": "execute_result"
    }
   ],
   "source": [
    "var y = 5.0"
   ]
  },
  {
   "cell_type": "code",
   "execution_count": 8,
   "metadata": {},
   "outputs": [
    {
     "name": "stdout",
     "output_type": "stream",
     "text": []
    },
    {
     "data": {
      "text/plain": [
       "Loaded dynamic library: 'python35.dll'\r\n",
       "@[(a: h, b: !), (a: e, b: k), (a: l, b: o), (a: l, b: o), (a: o, b: b), (a:  , b: e), (a: n, b: t), (a: o, b: o), (a: t, b: n), (a: e, b:  ), (a: b, b: o), (a: o, b: l), (a: o, b: l), (a: k, b: e), (a: !, b: h)]\r\n"
      ]
     },
     "execution_count": 8,
     "metadata": {},
     "output_type": "execute_result"
    }
   ],
   "source": [
    "import sequtils\n",
    "var s : seq[char] = toSeq(\"hello notebook!\".items)\n",
    "var z : seq[char] = toSeq(\"!koobeton olleh\".items)\n",
    "echo zip(s,z)"
   ]
  },
  {
   "cell_type": "code",
   "execution_count": null,
   "metadata": {},
   "outputs": [
    {
     "name": "stdout",
     "output_type": "stream",
     "text": [
      "Hint: used config file 'C:\\Dev\\nim-git\\config\\nim.cfg' [Conf]\n",
      "Hint: used config file 'C:\\Dev\\nim-git\\config\\config.nims' [Conf]\n",
      "......................CC: stdlib_formatfloat.nim\n",
      "CC: stdlib_system.nim\n",
      "CC: codecells.nim\n",
      "Link: stdlib_formatfloat.nim\n",
      "Link: stdlib_system.nim\n",
      "Link: codecells.nim\n",
      "Hint: 42920 lines; 1.655s; 60.711MiB peakmem; Debug build; proj: C:\\Users\\stisa\\.jupyternim\\codeserver.nim; out: C:\\Users\\stisa\\.jupyternim\\nimcodeserver.exe [SuccessX]\n"
     ]
    }
   ],
   "source": [
    "echo y.pow(2.0)"
   ]
  },
  {
   "cell_type": "markdown",
   "metadata": {},
   "source": [
    "Show the tempfile name\n",
    "----------------------\n",
    "Show tempfile name for this cell which happens to be the module name and therefor has a limited charset\n"
   ]
  },
  {
   "cell_type": "code",
   "execution_count": 9,
   "metadata": {},
   "outputs": [
    {
     "name": "stdout",
     "output_type": "stream",
     "text": []
    },
    {
     "data": {
      "text/plain": [
       "Loaded dynamic library: 'python35.dll'\r\n",
       "Module tempfile: 'block9.nim'\r\n"
      ]
     },
     "execution_count": 9,
     "metadata": {},
     "output_type": "execute_result"
    }
   ],
   "source": [
    "template FILE: string = instantiationInfo().filename\n",
    "\n",
    "echo \"Module tempfile: '\" & FILE() & \"'\""
   ]
  },
  {
   "cell_type": "markdown",
   "metadata": {},
   "source": [
    "Misc examples\n",
    "-------------"
   ]
  },
  {
   "cell_type": "markdown",
   "metadata": {},
   "source": [
    "### Simple procs"
   ]
  },
  {
   "cell_type": "code",
   "execution_count": 10,
   "metadata": {},
   "outputs": [
    {
     "name": "stdout",
     "output_type": "stream",
     "text": []
    },
    {
     "data": {
      "text/plain": [
       "Loaded dynamic library: 'python35.dll'\r\n",
       "25\r\n"
      ]
     },
     "execution_count": 10,
     "metadata": {},
     "output_type": "execute_result"
    }
   ],
   "source": [
    "proc square(x:int):int =\n",
    "    result = x*x\n",
    "\n",
    "echo square(5)"
   ]
  },
  {
   "cell_type": "markdown",
   "metadata": {},
   "source": [
    "### Json parsing"
   ]
  },
  {
   "cell_type": "code",
   "execution_count": 11,
   "metadata": {},
   "outputs": [
    {
     "name": "stdout",
     "output_type": "stream",
     "text": []
    },
    {
     "data": {
      "text/plain": [
       "Loaded dynamic library: 'python35.dll'\r\n",
       "1\r\n",
       "[10,\"apples\"]\r\n",
       "[{\"name\":\"John\",\"age\":30},{\"name\":\"Susan\",\"age\":31}]\r\n"
      ]
     },
     "execution_count": 11,
     "metadata": {},
     "output_type": "execute_result"
    }
   ],
   "source": [
    "import json\n",
    " \n",
    "var data = parseJson(\"\"\"{ \"foo\": 1, \"bar\": [10, \"apples\"] }\"\"\")\n",
    "echo data[\"foo\"]\n",
    "echo data[\"bar\"]\n",
    " \n",
    "var js = %[%{\"name\": %\"John\", \"age\": %30}, %{\"name\": %\"Susan\", \"age\": %31}]\n",
    "echo js"
   ]
  },
  {
   "cell_type": "markdown",
   "metadata": {},
   "source": [
    "##"
   ]
  },
  {
   "cell_type": "markdown",
   "metadata": {},
   "source": [
    "Plotting\n",
    "-----------\n",
    "\n",
    "A naive wrapper around a small subset of matplotlib is available."
   ]
  },
  {
   "cell_type": "code",
   "execution_count": 2,
   "metadata": {},
   "outputs": [
    {
     "name": "stdout",
     "output_type": "stream",
     "text": []
    },
    {
     "data": {
      "image/png": "[encoded data removed]"
     },
     "metadata": {
      "image/png": {
       "height": 480,
       "width": 640
      }
     },
     "output_type": "display_data"
    },
    {
     "data": {
      "text/plain": [
       "Loaded dynamic library: 'python35.dll'\n"
      ]
     },
     "execution_count": 2,
     "metadata": {},
     "output_type": "execute_result"
    }
   ],
   "source": [
    "#>inlineplot\n",
    "import math,sequtils\n",
    "\n",
    "iterator linsp*[T](fm,to,step:T):T =\n",
    "    if fm<to:\n",
    "      var res: T = T(fm)\n",
    "      while res<=to:\n",
    "        yield res\n",
    "        res+=step\n",
    "    elif fm>to:\n",
    "      var res: T = T(fm)\n",
    "      while res>=to:\n",
    "        yield res\n",
    "        res-=step\n",
    "    else:\n",
    "      yield fm\n",
    "    \n",
    "\n",
    "proc linspace* [T](fm,to,step:T):seq[T] = toSeq(linsp(fm, to, step)) # Result and step should be same type, not all 4\n",
    "\n",
    "\n",
    "proc sin (x:openarray[float]):seq[float] =\n",
    "  result = map(x) do (x:float)->float : \n",
    "    sin(x)\n",
    "\n",
    "let xx = linspace(0.0,2*Pi,0.01)\n",
    "\n",
    "show:\n",
    "    plot(xx,sin(xx))\n",
    "    title(r\"Sin(x) for $0\\leq x\\leq 2\\pi$\" )"
   ]
  },
  {
   "cell_type": "markdown",
   "metadata": {},
   "source": [
    "Basic histograms are also supported."
   ]
  },
  {
   "cell_type": "code",
   "execution_count": 15,
   "metadata": {},
   "outputs": [
    {
     "name": "stdout",
     "output_type": "stream",
     "text": []
    },
    {
     "data": {
      "image/png": "[encoded data removed]"
     },
     "metadata": {
      "image/png": {
       "height": 480,
       "width": 640
      }
     },
     "output_type": "display_data"
    },
    {
     "data": {
      "text/plain": [
       "Loaded dynamic library: 'libpython3.6.dylib'\n"
      ]
     },
     "execution_count": 15,
     "metadata": {},
     "output_type": "execute_result"
    }
   ],
   "source": [
    "#>inlineplot\n",
    "import math, random, sequtils\n",
    "\n",
    "# simulate a standard normal deviate\n",
    "proc normal(): float =\n",
    "  var q, v, u, x, y = 100.0\n",
    "  while (q > 0.27597 and (q > 0.27846 or v * v > -4 * ln(u) * u * u)):\n",
    "    u = random(1.0)\n",
    "    v = 1.7156 * (random(1.0) - 0.5)\n",
    "    x = u - 0.449871\n",
    "    y = abs(v) + 0.386595\n",
    "    q = x * x + y * (0.19600 * y - 0.25472 * x)\n",
    "  return v / u\n",
    "  \n",
    "let samples = newSeqWith(10000, normal())\n",
    "\n",
    "show:\n",
    "    hist(samples, bins=50)\n",
    "    title(r\"$x \\sim N(0, 1)$\" )"
   ]
  }
 ],
 "metadata": {
  "anaconda-cloud": {},
  "kernelspec": {
   "display_name": "Nim",
   "language": "nim",
   "name": "jupyternimspec"
  },
  "language_info": {
   "codemirror_mode": "nim",
   "file_extension": ".nim",
   "mimetype": "text/x-nimrod",
   "name": "nim",
   "nbconvert_exporter": "",
   "pygments_lexer": "",
   "version": "0.2"
  }
 },
 "nbformat": 4,
 "nbformat_minor": 4
}
